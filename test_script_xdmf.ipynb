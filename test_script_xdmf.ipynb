{
 "cells": [
  {
   "cell_type": "code",
   "execution_count": 1,
   "metadata": {},
   "outputs": [],
   "source": [
    "from fenics import *\n",
    "\n"
   ]
  },
  {
   "cell_type": "code",
   "execution_count": 7,
   "metadata": {},
   "outputs": [
    {
     "name": "stdout",
     "output_type": "stream",
     "text": [
      "[0. 0. 0. 0. 0. 0. 0. 0. 0.]\n",
      "[0.01 0.01 0.01 0.01 0.01 0.01 0.01 0.01 0.01]\n",
      "[0.02 0.02 0.02 0.02 0.02 0.02 0.02 0.02 0.02]\n",
      "[0.03 0.03 0.03 0.03 0.03 0.03 0.03 0.03 0.03]\n",
      "[0.04 0.04 0.04 0.04 0.04 0.04 0.04 0.04 0.04]\n",
      "[0.05 0.05 0.05 0.05 0.05 0.05 0.05 0.05 0.05]\n",
      "[0.06 0.06 0.06 0.06 0.06 0.06 0.06 0.06 0.06]\n",
      "[0.07 0.07 0.07 0.07 0.07 0.07 0.07 0.07 0.07]\n",
      "[0.08 0.08 0.08 0.08 0.08 0.08 0.08 0.08 0.08]\n",
      "[0.09 0.09 0.09 0.09 0.09 0.09 0.09 0.09 0.09]\n",
      "[0.1 0.1 0.1 0.1 0.1 0.1 0.1 0.1 0.1]\n"
     ]
    }
   ],
   "source": [
    "mesh = UnitSquareMesh(2, 2)\n",
    "V = FunctionSpace(mesh, 'P', 1)\n",
    "T = [1*i for i in range(11)]\n",
    "ufile = XDMFFile(\"u.xdmf\")\n",
    "\n",
    "#write\n",
    "for t in T:\n",
    "    ini_u = Expression(str(t*0.1), degree=2)\n",
    "    u = interpolate(ini_u, V)\n",
    "    u.rename(\"u\", \"label\")\n",
    "    ufile.write_checkpoint(u, \"u_out\", t)\n",
    "    print(u.vector().get_local())\n"
   ]
  },
  {
   "cell_type": "code",
   "execution_count": 15,
   "metadata": {},
   "outputs": [],
   "source": [
    "u1 = Function(V)\n"
   ]
  },
  {
   "cell_type": "code",
   "execution_count": 17,
   "metadata": {},
   "outputs": [
    {
     "ename": "TypeError",
     "evalue": "read_checkpoint(): incompatible function arguments. The following argument types are supported:\n    1. (self: dolfin.cpp.io.XDMFFile, u: dolfin.cpp.function.Function, name: str, counter: int = -1) -> None\n    2. (self: dolfin.cpp.io.XDMFFile, u: object, name: str, counter: int = -1) -> None\n\nInvoked with: <dolfin.cpp.io.XDMFFile object at 0x16d331130>, Coefficient(FunctionSpace(Mesh(VectorElement(FiniteElement('Lagrange', triangle, 1), dim=2), 224), FiniteElement('Lagrange', triangle, 1)), 229), 'u_out', 0.0",
     "output_type": "error",
     "traceback": [
      "\u001b[0;31m---------------------------------------------------------------------------\u001b[0m",
      "\u001b[0;31mTypeError\u001b[0m                                 Traceback (most recent call last)",
      "Cell \u001b[0;32mIn[17], line 8\u001b[0m\n\u001b[1;32m      6\u001b[0m \u001b[38;5;28;01mfor\u001b[39;00m t \u001b[38;5;129;01min\u001b[39;00m T:\n\u001b[1;32m      7\u001b[0m     \u001b[38;5;28;01mwith\u001b[39;00m XDMFFile(mesh\u001b[38;5;241m.\u001b[39mmpi_comm(), \u001b[38;5;124m\"\u001b[39m\u001b[38;5;124mu.xdmf\u001b[39m\u001b[38;5;124m\"\u001b[39m) \u001b[38;5;28;01mas\u001b[39;00m file:\n\u001b[0;32m----> 8\u001b[0m         \u001b[43mfile\u001b[49m\u001b[38;5;241;43m.\u001b[39;49m\u001b[43mread_checkpoint\u001b[49m\u001b[43m(\u001b[49m\u001b[43mu1\u001b[49m\u001b[43m,\u001b[49m\u001b[43m \u001b[49m\u001b[38;5;124;43m\"\u001b[39;49m\u001b[38;5;124;43mu_out\u001b[39;49m\u001b[38;5;124;43m\"\u001b[39;49m\u001b[43m,\u001b[49m\u001b[43m \u001b[49m\u001b[43mt\u001b[49m\u001b[43m)\u001b[49m\n\u001b[1;32m      9\u001b[0m     \u001b[38;5;28mprint\u001b[39m(u1\u001b[38;5;241m.\u001b[39mvector()\u001b[38;5;241m.\u001b[39mget_local())\n",
      "\u001b[0;31mTypeError\u001b[0m: read_checkpoint(): incompatible function arguments. The following argument types are supported:\n    1. (self: dolfin.cpp.io.XDMFFile, u: dolfin.cpp.function.Function, name: str, counter: int = -1) -> None\n    2. (self: dolfin.cpp.io.XDMFFile, u: object, name: str, counter: int = -1) -> None\n\nInvoked with: <dolfin.cpp.io.XDMFFile object at 0x16d331130>, Coefficient(FunctionSpace(Mesh(VectorElement(FiniteElement('Lagrange', triangle, 1), dim=2), 224), FiniteElement('Lagrange', triangle, 1)), 229), 'u_out', 0.0"
     ]
    }
   ],
   "source": [
    "mesh = UnitSquareMesh(2, 2)\n",
    "V = FunctionSpace(mesh, 'P', 1)\n",
    "u1 = Function(V)\n",
    "T = [0.1*i for i in range(11)]\n",
    "\n",
    "for t in T:\n",
    "    \n",
    "    with XDMFFile(mesh.mpi_comm(), \"u.xdmf\") as file:\n",
    "        file.read_checkpoint(u1, \"u_out\", t)\n",
    "    print(u1.vector().get_local())"
   ]
  },
  {
   "cell_type": "code",
   "execution_count": null,
   "metadata": {},
   "outputs": [],
   "source": []
  }
 ],
 "metadata": {
  "interpreter": {
   "hash": "b88b72e7b56b60cae3aee6cc7dfd294b9153b4075dbb0c6cf56df3a9bf10333c"
  },
  "kernelspec": {
   "display_name": "Python 3.11.5 ('supg')",
   "language": "python",
   "name": "python3"
  },
  "language_info": {
   "codemirror_mode": {
    "name": "ipython",
    "version": 3
   },
   "file_extension": ".py",
   "mimetype": "text/x-python",
   "name": "python",
   "nbconvert_exporter": "python",
   "pygments_lexer": "ipython3",
   "version": "3.11.5"
  },
  "orig_nbformat": 4
 },
 "nbformat": 4,
 "nbformat_minor": 2
}
